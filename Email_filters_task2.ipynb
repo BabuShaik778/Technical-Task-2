{
  "nbformat": 4,
  "nbformat_minor": 0,
  "metadata": {
    "colab": {
      "provenance": [],
      "authorship_tag": "ABX9TyPYoGoMU95BjXJ6q3f1n1ko",
      "include_colab_link": true
    },
    "kernelspec": {
      "name": "python3",
      "display_name": "Python 3"
    },
    "language_info": {
      "name": "python"
    }
  },
  "cells": [
    {
      "cell_type": "markdown",
      "metadata": {
        "id": "view-in-github",
        "colab_type": "text"
      },
      "source": [
        "<a href=\"https://colab.research.google.com/github/BabuShaik778/Technical-Task-2/blob/main/Email_filters_task2.ipynb\" target=\"_parent\"><img src=\"https://colab.research.google.com/assets/colab-badge.svg\" alt=\"Open In Colab\"/></a>"
      ]
    },
    {
      "cell_type": "code",
      "execution_count": 4,
      "metadata": {
        "colab": {
          "base_uri": "https://localhost:8080/"
        },
        "id": "YjjT7ExPe2TK",
        "outputId": "3f9f5b88-1718-404f-daf5-ad7ac187ec66"
      },
      "outputs": [
        {
          "output_type": "stream",
          "name": "stdout",
          "text": [
            "New Lead from From\n",
            "Cybersecurity Lead\n"
          ]
        }
      ],
      "source": [
        "# Python Code\n",
        "\n",
        "#input list\n",
        "Emails = ['New Lead from From', 'Daily Report', 'Zoom Invite', 'Cybersecurity Lead']\n",
        "\n",
        "\n",
        "#loop through emails in list\n",
        "for subject in Emails:\n",
        "  if 'lead'  in subject.lower(): # convert subjects to lowercase\n",
        "    print(subject)"
      ]
    }
  ]
}